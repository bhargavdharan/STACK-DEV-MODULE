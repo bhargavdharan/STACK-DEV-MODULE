{
 "cells": [
  {
   "cell_type": "markdown",
   "id": "e4eb4f20",
   "metadata": {},
   "source": [
    "# BASIC DATA TYPES\n",
    "\n",
    "* Data types is out basic building block when constructing larger pieces of code\n",
    "\n",
    "TYPES OF DATA TYPES\n",
    "\n",
    "1. Integers \n",
    "    - NUMBER/NUMERIC TYPE\n",
    "    - int\n",
    "    - Whole numbers, such as : 3,200,100\n",
    "    \n",
    "2. Floating Point\n",
    "    - NUMBER/NUMERIC TYPE\n",
    "    - float\n",
    "    - Numbers with a decimal point : 2.3 4.6 100.0\n",
    "    \n",
    "3. Strings\n",
    "    - TEXT TYPE\n",
    "    - str\n",
    "    - Ordered sequence of characters : \"hello\",'sam',\"2022\"\n",
    "    \n",
    "4. Lists\n",
    "    - SEQUENCE TYPE\n",
    "    - list\n",
    "    - Ordered sequence of objects : [10,\"hello\",200,100.5]\n",
    "    \n",
    "5. Dictionaries\n",
    "    - MAPPING TYPE\n",
    "    - dict\n",
    "    - Unordered key-value pairs : {\"myKey\":\"myValue\",\"myAge\":\"22\"}\n",
    "    \n",
    "6. Tuples\n",
    "    - SEQUENCE TYPE\n",
    "    - tup\n",
    "    - Ordered immutable sequence of objects : (10,\"hello\",100.2)\n",
    "    \n",
    "7. Sets\n",
    "    - SET TYPE\n",
    "    - set\n",
    "    - Unordered collection of unique objects : {\"a\",\"b\"}\n",
    "    \n",
    "8. Booleans\n",
    "    - BOOLEAN TYPE\n",
    "    - bool\n",
    "    - Logical value indicating TRUE or FALSE"
   ]
  },
  {
   "cell_type": "markdown",
   "id": "908fa45f",
   "metadata": {},
   "source": [
    "## PYTHON NUMBERS"
   ]
  },
  {
   "cell_type": "markdown",
   "id": "8a70305b",
   "metadata": {},
   "source": [
    "There are two main number types in python that we will work with\n",
    "* Integers numbers - which are whole numbers\n",
    "* Floating Point Numbers - which are numbers with decimals"
   ]
  },
  {
   "cell_type": "markdown",
   "id": "fdcd8d4c",
   "metadata": {},
   "source": [
    "Lets Explore by doing some basic calculations"
   ]
  },
  {
   "cell_type": "code",
   "execution_count": 3,
   "id": "01ac267b",
   "metadata": {},
   "outputs": [
    {
     "data": {
      "text/plain": [
       "4"
      ]
     },
     "execution_count": 3,
     "metadata": {},
     "output_type": "execute_result"
    }
   ],
   "source": [
    "2+2"
   ]
  },
  {
   "cell_type": "code",
   "execution_count": 4,
   "id": "4eafcd19",
   "metadata": {},
   "outputs": [
    {
     "data": {
      "text/plain": [
       "1"
      ]
     },
     "execution_count": 4,
     "metadata": {},
     "output_type": "execute_result"
    }
   ],
   "source": [
    "2-1"
   ]
  },
  {
   "cell_type": "code",
   "execution_count": 5,
   "id": "8817b090",
   "metadata": {},
   "outputs": [
    {
     "data": {
      "text/plain": [
       "8"
      ]
     },
     "execution_count": 5,
     "metadata": {},
     "output_type": "execute_result"
    }
   ],
   "source": [
    "2*4"
   ]
  },
  {
   "cell_type": "code",
   "execution_count": 6,
   "id": "68e68468",
   "metadata": {},
   "outputs": [
    {
     "data": {
      "text/plain": [
       "1.5"
      ]
     },
     "execution_count": 6,
     "metadata": {},
     "output_type": "execute_result"
    }
   ],
   "source": [
    "3/2"
   ]
  },
  {
   "cell_type": "markdown",
   "id": "ba2adb7f",
   "metadata": {},
   "source": [
    "#### Modulo or \"Mod\" Operator"
   ]
  },
  {
   "cell_type": "code",
   "execution_count": 7,
   "id": "38b2b1c1",
   "metadata": {},
   "outputs": [
    {
     "data": {
      "text/plain": [
       "1.75"
      ]
     },
     "execution_count": 7,
     "metadata": {},
     "output_type": "execute_result"
    }
   ],
   "source": [
    "7/4"
   ]
  },
  {
   "cell_type": "code",
   "execution_count": 8,
   "id": "e57b2a1f",
   "metadata": {},
   "outputs": [
    {
     "data": {
      "text/plain": [
       "3"
      ]
     },
     "execution_count": 8,
     "metadata": {},
     "output_type": "execute_result"
    }
   ],
   "source": [
    "7%4"
   ]
  },
  {
   "cell_type": "code",
   "execution_count": 9,
   "id": "4c3b41c3",
   "metadata": {},
   "outputs": [
    {
     "data": {
      "text/plain": [
       "0"
      ]
     },
     "execution_count": 9,
     "metadata": {},
     "output_type": "execute_result"
    }
   ],
   "source": [
    "50 % 5"
   ]
  },
  {
   "cell_type": "code",
   "execution_count": 10,
   "id": "f50b8c1f",
   "metadata": {},
   "outputs": [
    {
     "data": {
      "text/plain": [
       "1"
      ]
     },
     "execution_count": 10,
     "metadata": {},
     "output_type": "execute_result"
    }
   ],
   "source": [
    "23 % 2"
   ]
  },
  {
   "cell_type": "code",
   "execution_count": 11,
   "id": "83acac91",
   "metadata": {},
   "outputs": [
    {
     "data": {
      "text/plain": [
       "0"
      ]
     },
     "execution_count": 11,
     "metadata": {},
     "output_type": "execute_result"
    }
   ],
   "source": [
    "20 % 2"
   ]
  },
  {
   "cell_type": "code",
   "execution_count": 12,
   "id": "12c5c26b",
   "metadata": {},
   "outputs": [
    {
     "data": {
      "text/plain": [
       "8"
      ]
     },
     "execution_count": 12,
     "metadata": {},
     "output_type": "execute_result"
    }
   ],
   "source": [
    "2 ** 3"
   ]
  },
  {
   "cell_type": "code",
   "execution_count": 13,
   "id": "bf220c81",
   "metadata": {},
   "outputs": [
    {
     "data": {
      "text/plain": [
       "105"
      ]
     },
     "execution_count": 13,
     "metadata": {},
     "output_type": "execute_result"
    }
   ],
   "source": [
    "2 + 10 * 10 + 3"
   ]
  },
  {
   "cell_type": "code",
   "execution_count": 14,
   "id": "542fb32f",
   "metadata": {},
   "outputs": [
    {
     "data": {
      "text/plain": [
       "156"
      ]
     },
     "execution_count": 14,
     "metadata": {},
     "output_type": "execute_result"
    }
   ],
   "source": [
    "(2 + 10) * (10 + 3)"
   ]
  },
  {
   "cell_type": "markdown",
   "id": "3cdc1213",
   "metadata": {},
   "source": [
    "### Interview Questions on numbers FAQ\n",
    "\n",
    "1. What's the difference between floating point and an integer ?\n",
    "\n",
    "2. Why doesn't 0.1 + 0.2 - 0.3 equal to 0.0 ?\n",
    "\n",
    "For more content do refer for the following link : https://docs.python.org/2/tutorial/floatingpoint.html"
   ]
  },
  {
   "cell_type": "markdown",
   "id": "e4cba727",
   "metadata": {},
   "source": [
    "Until now, we have learn how to work with numbers - Later on we will learn how to represent numbers for the references"
   ]
  },
  {
   "cell_type": "markdown",
   "id": "5c3fbc68",
   "metadata": {},
   "source": [
    "Example : myDogs = 4"
   ]
  },
  {
   "cell_type": "markdown",
   "id": "57778d45",
   "metadata": {},
   "source": [
    "### RULES FOR VARIABLE NAMES\n",
    "\n",
    "* Names can not start with a number\n",
    "\n",
    "* There can be no spaces in the name, use _instead\n",
    "\n",
    "* can't use any of these symbols (:\",<>/?|!()@#%^&*~-+)\n",
    "\n",
    "* It's considered best practise (PEP8) that names are lowercase\n",
    "\n",
    "* Avoid using the words that have special meaning in python like \"list\" and \"str\" more\n",
    "\n",
    "* Python uses Dynamic Typing\n",
    "\n",
    "    - That means we can reassign variables to different data types\n",
    "    - This makes python very flexible in assigning data types, this is different that other languages that are \"Statically-Typed\""
   ]
  },
  {
   "cell_type": "markdown",
   "id": "1282483b",
   "metadata": {},
   "source": [
    "Example of dynamic typing\n",
    "\n",
    "In Python,\n",
    "\n",
    "    myDogs = 4\n",
    "    myDogs = [\"sammy\",\"frank\"]\n",
    "    \n",
    "Example of statically typing\n",
    "\n",
    "In C++,\n",
    "\n",
    "    int myDogs = 2;\n",
    "    myDogs = \"sam\"; // Results in error"
   ]
  },
  {
   "cell_type": "markdown",
   "id": "cde50eb3",
   "metadata": {},
   "source": [
    "<b>Pros & Cons | Adv & DisAd</b>\n",
    "\n",
    "* Pros \n",
    "    - Very easy to work \n",
    "    - Faster development time\n",
    "* Cons\n",
    "    - May result in bugs for unexpected data types\n",
    "    - We need to be aware of type() function"
   ]
  },
  {
   "cell_type": "code",
   "execution_count": 16,
   "id": "ac3b1a79",
   "metadata": {},
   "outputs": [],
   "source": [
    "a = 10"
   ]
  },
  {
   "cell_type": "code",
   "execution_count": 17,
   "id": "787ade90",
   "metadata": {},
   "outputs": [
    {
     "data": {
      "text/plain": [
       "10"
      ]
     },
     "execution_count": 17,
     "metadata": {},
     "output_type": "execute_result"
    }
   ],
   "source": [
    "a"
   ]
  },
  {
   "cell_type": "code",
   "execution_count": 18,
   "id": "318d628d",
   "metadata": {},
   "outputs": [],
   "source": [
    "a = 2"
   ]
  },
  {
   "cell_type": "code",
   "execution_count": 19,
   "id": "61bc2581",
   "metadata": {},
   "outputs": [
    {
     "data": {
      "text/plain": [
       "2"
      ]
     },
     "execution_count": 19,
     "metadata": {},
     "output_type": "execute_result"
    }
   ],
   "source": [
    "a"
   ]
  },
  {
   "cell_type": "code",
   "execution_count": 20,
   "id": "88fd4f35",
   "metadata": {},
   "outputs": [
    {
     "data": {
      "text/plain": [
       "4"
      ]
     },
     "execution_count": 20,
     "metadata": {},
     "output_type": "execute_result"
    }
   ],
   "source": [
    "a + a"
   ]
  },
  {
   "cell_type": "code",
   "execution_count": 24,
   "id": "b635e0cc",
   "metadata": {},
   "outputs": [],
   "source": [
    "a = a + a + a"
   ]
  },
  {
   "cell_type": "code",
   "execution_count": 26,
   "id": "9c4b341d",
   "metadata": {},
   "outputs": [
    {
     "data": {
      "text/plain": [
       "12"
      ]
     },
     "execution_count": 26,
     "metadata": {},
     "output_type": "execute_result"
    }
   ],
   "source": [
    "a"
   ]
  },
  {
   "cell_type": "code",
   "execution_count": 27,
   "id": "4fd012bb",
   "metadata": {},
   "outputs": [
    {
     "data": {
      "text/plain": [
       "int"
      ]
     },
     "execution_count": 27,
     "metadata": {},
     "output_type": "execute_result"
    }
   ],
   "source": [
    "# we dont know what kind of data type we have used in code - for that we use type() operator\n",
    "type(a)"
   ]
  },
  {
   "cell_type": "code",
   "execution_count": 28,
   "id": "83c8f050",
   "metadata": {},
   "outputs": [
    {
     "data": {
      "text/plain": [
       "float"
      ]
     },
     "execution_count": 28,
     "metadata": {},
     "output_type": "execute_result"
    }
   ],
   "source": [
    "a = 23.5\n",
    "type(a)"
   ]
  },
  {
   "cell_type": "code",
   "execution_count": 5,
   "id": "ccd5c336",
   "metadata": {},
   "outputs": [],
   "source": [
    "myIncome = 100\n",
    "\n",
    "taxRate = 0.1\n",
    "\n",
    "myTax = myIncome * taxRate"
   ]
  },
  {
   "cell_type": "code",
   "execution_count": 6,
   "id": "a8425be5",
   "metadata": {},
   "outputs": [
    {
     "data": {
      "text/plain": [
       "10.0"
      ]
     },
     "execution_count": 6,
     "metadata": {},
     "output_type": "execute_result"
    }
   ],
   "source": [
    "myTax"
   ]
  },
  {
   "cell_type": "markdown",
   "id": "32a4c3d5",
   "metadata": {},
   "source": [
    "### PYTHON STRINGS\n",
    "\n",
    "Strings are sequences of characters, using the syntax of either single quotes or double quotes\n",
    "\n",
    "* 'hello'\n",
    "* \"hello\"\n",
    "\n",
    "Because string are <b>ordered sequences</b> it means we can use <b>indexing</b> and <b>slicing</b> to grab sub-sections of the string\n",
    "\n",
    "<b>INDEXING</b>\n",
    "\n",
    "Indexing notation uses [] notation after the string or variable assigned the string\n",
    "\n",
    "Indexing allows you to grab a single character from a string\n",
    "\n",
    "These actions use [] aquare brackets and number index to indicate positions of what you wish to grab\n",
    "   *  Character  :  h   e   l   l   o\n",
    "       *  Index  :  0  1  2  3  4\n",
    "   * Reverse Ind :  0 -4 -3 -2 -1\n",
    "   \n",
    "<b>SLICING</b>\n",
    "\n",
    "Slicing allows you to grab a subsection of multiple characters, a \"slice\" of the string\n",
    "\n",
    "This has the following syntax\n",
    "    * [start : stop : step]\n",
    "\n",
    "<b>start</b> is the numerical index of the slice start\n",
    "\n",
    "<b>stop</b> is the index you will go up to (but not include)\n",
    "\n",
    "<b>step</b> is the size of the \"jump\" we take"
   ]
  },
  {
   "cell_type": "code",
   "execution_count": 7,
   "id": "b74417ed",
   "metadata": {},
   "outputs": [
    {
     "data": {
      "text/plain": [
       "'hello'"
      ]
     },
     "execution_count": 7,
     "metadata": {},
     "output_type": "execute_result"
    }
   ],
   "source": [
    "'hello'"
   ]
  },
  {
   "cell_type": "code",
   "execution_count": 8,
   "id": "765108c5",
   "metadata": {},
   "outputs": [
    {
     "data": {
      "text/plain": [
       "'hello'"
      ]
     },
     "execution_count": 8,
     "metadata": {},
     "output_type": "execute_result"
    }
   ],
   "source": [
    "\"hello\""
   ]
  },
  {
   "cell_type": "code",
   "execution_count": 9,
   "id": "3b098529",
   "metadata": {},
   "outputs": [
    {
     "data": {
      "text/plain": [
       "'this is also a string'"
      ]
     },
     "execution_count": 9,
     "metadata": {},
     "output_type": "execute_result"
    }
   ],
   "source": [
    "\"this is also a string\""
   ]
  },
  {
   "cell_type": "code",
   "execution_count": 11,
   "id": "5b4887cc",
   "metadata": {},
   "outputs": [
    {
     "ename": "SyntaxError",
     "evalue": "invalid syntax (375039999.py, line 1)",
     "output_type": "error",
     "traceback": [
      "\u001b[1;36m  File \u001b[1;32m\"C:\\Users\\bharg\\AppData\\Local\\Temp\\ipykernel_9932\\375039999.py\"\u001b[1;36m, line \u001b[1;32m1\u001b[0m\n\u001b[1;33m    'I'm going on a run'\u001b[0m\n\u001b[1;37m       ^\u001b[0m\n\u001b[1;31mSyntaxError\u001b[0m\u001b[1;31m:\u001b[0m invalid syntax\n"
     ]
    }
   ],
   "source": [
    "'I'm going on a run'"
   ]
  },
  {
   "cell_type": "code",
   "execution_count": 12,
   "id": "f5f787e6",
   "metadata": {},
   "outputs": [
    {
     "data": {
      "text/plain": [
       "\"I'm going on a run\""
      ]
     },
     "execution_count": 12,
     "metadata": {},
     "output_type": "execute_result"
    }
   ],
   "source": [
    "\"I'm going on a run\""
   ]
  },
  {
   "cell_type": "code",
   "execution_count": 14,
   "id": "f996e4d4",
   "metadata": {},
   "outputs": [
    {
     "data": {
      "text/plain": [
       "'Hello world, Two'"
      ]
     },
     "execution_count": 14,
     "metadata": {},
     "output_type": "execute_result"
    }
   ],
   "source": [
    "\"Hello world, One\"\n",
    "\"Hello world, Two\""
   ]
  },
  {
   "cell_type": "code",
   "execution_count": 15,
   "id": "5adc6d99",
   "metadata": {},
   "outputs": [
    {
     "name": "stdout",
     "output_type": "stream",
     "text": [
      "Hello\n"
     ]
    }
   ],
   "source": [
    "print(\"Hello\")"
   ]
  },
  {
   "cell_type": "code",
   "execution_count": 16,
   "id": "133d58e5",
   "metadata": {},
   "outputs": [
    {
     "name": "stdout",
     "output_type": "stream",
     "text": [
      "Hello, One\n",
      "Hello, two\n"
     ]
    }
   ],
   "source": [
    "print(\"Hello, One\")\n",
    "print(\"Hello, two\")"
   ]
  },
  {
   "cell_type": "markdown",
   "id": "60405432",
   "metadata": {},
   "source": [
    "<b>Escape Sequences</b>"
   ]
  },
  {
   "cell_type": "code",
   "execution_count": 17,
   "id": "242d4386",
   "metadata": {},
   "outputs": [
    {
     "name": "stdout",
     "output_type": "stream",
     "text": [
      "Hello, World!\n"
     ]
    }
   ],
   "source": [
    "print(\"Hello, World!\")"
   ]
  },
  {
   "cell_type": "code",
   "execution_count": 21,
   "id": "ad574c29",
   "metadata": {},
   "outputs": [
    {
     "name": "stdout",
     "output_type": "stream",
     "text": [
      "Hello, \t world\n"
     ]
    }
   ],
   "source": [
    "print(\"Hello, \\t world\")"
   ]
  },
  {
   "cell_type": "code",
   "execution_count": 22,
   "id": "d8403fb6",
   "metadata": {},
   "outputs": [
    {
     "name": "stdout",
     "output_type": "stream",
     "text": [
      "Hello, \n",
      " world\n"
     ]
    }
   ],
   "source": [
    "print(\"Hello, \\n world\")"
   ]
  },
  {
   "cell_type": "code",
   "execution_count": 23,
   "id": "1a39e3f9",
   "metadata": {},
   "outputs": [
    {
     "data": {
      "text/plain": [
       "4"
      ]
     },
     "execution_count": 23,
     "metadata": {},
     "output_type": "execute_result"
    }
   ],
   "source": [
    "len(\"I am\")"
   ]
  },
  {
   "cell_type": "code",
   "execution_count": 24,
   "id": "18eb23f6",
   "metadata": {},
   "outputs": [],
   "source": [
    "myString = \"Wonderful\""
   ]
  },
  {
   "cell_type": "code",
   "execution_count": 25,
   "id": "e07f2848",
   "metadata": {},
   "outputs": [
    {
     "data": {
      "text/plain": [
       "'Wonderful'"
      ]
     },
     "execution_count": 25,
     "metadata": {},
     "output_type": "execute_result"
    }
   ],
   "source": [
    "myString"
   ]
  },
  {
   "cell_type": "code",
   "execution_count": 26,
   "id": "0e5c97f0",
   "metadata": {},
   "outputs": [
    {
     "data": {
      "text/plain": [
       "'W'"
      ]
     },
     "execution_count": 26,
     "metadata": {},
     "output_type": "execute_result"
    }
   ],
   "source": [
    "myString[0]"
   ]
  },
  {
   "cell_type": "code",
   "execution_count": 27,
   "id": "1f795f49",
   "metadata": {},
   "outputs": [
    {
     "data": {
      "text/plain": [
       "'l'"
      ]
     },
     "execution_count": 27,
     "metadata": {},
     "output_type": "execute_result"
    }
   ],
   "source": [
    "myString[8]"
   ]
  },
  {
   "cell_type": "code",
   "execution_count": 29,
   "id": "64e285b7",
   "metadata": {},
   "outputs": [
    {
     "data": {
      "text/plain": [
       "'W'"
      ]
     },
     "execution_count": 29,
     "metadata": {},
     "output_type": "execute_result"
    }
   ],
   "source": [
    "myString[-9]"
   ]
  },
  {
   "cell_type": "code",
   "execution_count": 30,
   "id": "761226ec",
   "metadata": {},
   "outputs": [
    {
     "data": {
      "text/plain": [
       "'l'"
      ]
     },
     "execution_count": 30,
     "metadata": {},
     "output_type": "execute_result"
    }
   ],
   "source": [
    "myString[-1]"
   ]
  },
  {
   "cell_type": "code",
   "execution_count": 31,
   "id": "dd433dbe",
   "metadata": {},
   "outputs": [],
   "source": [
    "myString = 'abcdefghijklmn'"
   ]
  },
  {
   "cell_type": "code",
   "execution_count": 32,
   "id": "467fba6a",
   "metadata": {},
   "outputs": [
    {
     "data": {
      "text/plain": [
       "'abcdefghijklmn'"
      ]
     },
     "execution_count": 32,
     "metadata": {},
     "output_type": "execute_result"
    }
   ],
   "source": [
    "myString"
   ]
  },
  {
   "cell_type": "code",
   "execution_count": 33,
   "id": "981c8084",
   "metadata": {},
   "outputs": [
    {
     "data": {
      "text/plain": [
       "'cdefghijklmn'"
      ]
     },
     "execution_count": 33,
     "metadata": {},
     "output_type": "execute_result"
    }
   ],
   "source": [
    "myString[2:]"
   ]
  },
  {
   "cell_type": "code",
   "execution_count": 34,
   "id": "018563b6",
   "metadata": {},
   "outputs": [
    {
     "data": {
      "text/plain": [
       "'abc'"
      ]
     },
     "execution_count": 34,
     "metadata": {},
     "output_type": "execute_result"
    }
   ],
   "source": [
    "myString[:3]"
   ]
  },
  {
   "cell_type": "code",
   "execution_count": 35,
   "id": "7383af57",
   "metadata": {},
   "outputs": [
    {
     "data": {
      "text/plain": [
       "'defg'"
      ]
     },
     "execution_count": 35,
     "metadata": {},
     "output_type": "execute_result"
    }
   ],
   "source": [
    "myString[3:7]"
   ]
  },
  {
   "cell_type": "code",
   "execution_count": 36,
   "id": "9f9f61b1",
   "metadata": {},
   "outputs": [
    {
     "data": {
      "text/plain": [
       "'abcdefghijklmn'"
      ]
     },
     "execution_count": 36,
     "metadata": {},
     "output_type": "execute_result"
    }
   ],
   "source": [
    "# step size\n",
    "myString[::]"
   ]
  },
  {
   "cell_type": "code",
   "execution_count": 37,
   "id": "2c5fc0e6",
   "metadata": {},
   "outputs": [
    {
     "data": {
      "text/plain": [
       "'adgjm'"
      ]
     },
     "execution_count": 37,
     "metadata": {},
     "output_type": "execute_result"
    }
   ],
   "source": [
    "myString[::3]"
   ]
  },
  {
   "cell_type": "code",
   "execution_count": 38,
   "id": "d78c0081",
   "metadata": {},
   "outputs": [
    {
     "data": {
      "text/plain": [
       "'ceg'"
      ]
     },
     "execution_count": 38,
     "metadata": {},
     "output_type": "execute_result"
    }
   ],
   "source": [
    "myString[2:8:2]"
   ]
  },
  {
   "cell_type": "code",
   "execution_count": 39,
   "id": "672bd32d",
   "metadata": {},
   "outputs": [
    {
     "data": {
      "text/plain": [
       "'nmlkjihgfedcba'"
      ]
     },
     "execution_count": 39,
     "metadata": {},
     "output_type": "execute_result"
    }
   ],
   "source": [
    "myString[::-1]"
   ]
  },
  {
   "cell_type": "markdown",
   "id": "eed3b8e2",
   "metadata": {},
   "source": [
    "<b>String Properties and Methods</b>"
   ]
  },
  {
   "cell_type": "markdown",
   "id": "5b1f4782",
   "metadata": {},
   "source": [
    "<b>Immutability</b>"
   ]
  },
  {
   "cell_type": "code",
   "execution_count": 44,
   "id": "d1021c7d",
   "metadata": {},
   "outputs": [],
   "source": [
    "name = \"Ram\""
   ]
  },
  {
   "cell_type": "code",
   "execution_count": 45,
   "id": "14203da6",
   "metadata": {},
   "outputs": [
    {
     "ename": "TypeError",
     "evalue": "'str' object does not support item assignment",
     "output_type": "error",
     "traceback": [
      "\u001b[1;31m---------------------------------------------------------------------------\u001b[0m",
      "\u001b[1;31mTypeError\u001b[0m                                 Traceback (most recent call last)",
      "\u001b[1;32m~\\AppData\\Local\\Temp\\ipykernel_9932\\2563617953.py\u001b[0m in \u001b[0;36m<module>\u001b[1;34m\u001b[0m\n\u001b[1;32m----> 1\u001b[1;33m \u001b[0mname\u001b[0m\u001b[1;33m[\u001b[0m\u001b[1;36m0\u001b[0m\u001b[1;33m]\u001b[0m \u001b[1;33m=\u001b[0m \u001b[1;34m\"A\"\u001b[0m\u001b[1;33m\u001b[0m\u001b[1;33m\u001b[0m\u001b[0m\n\u001b[0m",
      "\u001b[1;31mTypeError\u001b[0m: 'str' object does not support item assignment"
     ]
    }
   ],
   "source": [
    "name[0] = \"A\""
   ]
  },
  {
   "cell_type": "code",
   "execution_count": 46,
   "id": "30d5104b",
   "metadata": {},
   "outputs": [],
   "source": [
    "lastName = name[1:]"
   ]
  },
  {
   "cell_type": "markdown",
   "id": "f9fb13b2",
   "metadata": {},
   "source": [
    "<b>Concatenation</b>"
   ]
  },
  {
   "cell_type": "code",
   "execution_count": 47,
   "id": "d7d9026b",
   "metadata": {},
   "outputs": [
    {
     "data": {
      "text/plain": [
       "'am'"
      ]
     },
     "execution_count": 47,
     "metadata": {},
     "output_type": "execute_result"
    }
   ],
   "source": [
    "lastName"
   ]
  },
  {
   "cell_type": "code",
   "execution_count": 48,
   "id": "63696d93",
   "metadata": {},
   "outputs": [
    {
     "data": {
      "text/plain": [
       "'shyam'"
      ]
     },
     "execution_count": 48,
     "metadata": {},
     "output_type": "execute_result"
    }
   ],
   "source": [
    "'shy' + lastName"
   ]
  },
  {
   "cell_type": "code",
   "execution_count": 49,
   "id": "ab62ae15",
   "metadata": {},
   "outputs": [],
   "source": [
    "x = \"Hello, buddy!\""
   ]
  },
  {
   "cell_type": "code",
   "execution_count": 51,
   "id": "d440b103",
   "metadata": {},
   "outputs": [
    {
     "data": {
      "text/plain": [
       "'Hello, buddy! world is beautiful outside'"
      ]
     },
     "execution_count": 51,
     "metadata": {},
     "output_type": "execute_result"
    }
   ],
   "source": [
    "x + \" world is beautiful outside\""
   ]
  },
  {
   "cell_type": "code",
   "execution_count": 52,
   "id": "9fea6e26",
   "metadata": {},
   "outputs": [],
   "source": [
    "letter = 'z'"
   ]
  },
  {
   "cell_type": "code",
   "execution_count": 53,
   "id": "3813fc50",
   "metadata": {},
   "outputs": [
    {
     "data": {
      "text/plain": [
       "'zzzzzzzzzzzzzzzzzzzz'"
      ]
     },
     "execution_count": 53,
     "metadata": {},
     "output_type": "execute_result"
    }
   ],
   "source": [
    "letter * 20"
   ]
  },
  {
   "cell_type": "code",
   "execution_count": 54,
   "id": "b8f618d1",
   "metadata": {},
   "outputs": [
    {
     "data": {
      "text/plain": [
       "5"
      ]
     },
     "execution_count": 54,
     "metadata": {},
     "output_type": "execute_result"
    }
   ],
   "source": [
    "2 + 3"
   ]
  },
  {
   "cell_type": "code",
   "execution_count": 55,
   "id": "81dd43b3",
   "metadata": {},
   "outputs": [
    {
     "data": {
      "text/plain": [
       "'23'"
      ]
     },
     "execution_count": 55,
     "metadata": {},
     "output_type": "execute_result"
    }
   ],
   "source": [
    "'2' + '3'"
   ]
  },
  {
   "cell_type": "markdown",
   "id": "eba0d11d",
   "metadata": {},
   "source": [
    "<b>Methods</b>"
   ]
  },
  {
   "cell_type": "code",
   "execution_count": 57,
   "id": "bfaa5b59",
   "metadata": {},
   "outputs": [],
   "source": [
    "x = \"Hello Jay\""
   ]
  },
  {
   "cell_type": "code",
   "execution_count": 60,
   "id": "f3d3e7fb",
   "metadata": {},
   "outputs": [
    {
     "data": {
      "text/plain": [
       "'Hello jay'"
      ]
     },
     "execution_count": 60,
     "metadata": {},
     "output_type": "execute_result"
    }
   ],
   "source": [
    "x.capitalize()"
   ]
  },
  {
   "cell_type": "code",
   "execution_count": 61,
   "id": "d0f36a5a",
   "metadata": {},
   "outputs": [
    {
     "data": {
      "text/plain": [
       "'HELLO JAY'"
      ]
     },
     "execution_count": 61,
     "metadata": {},
     "output_type": "execute_result"
    }
   ],
   "source": [
    "x.upper()"
   ]
  },
  {
   "cell_type": "code",
   "execution_count": 62,
   "id": "f51cc12e",
   "metadata": {},
   "outputs": [
    {
     "data": {
      "text/plain": [
       "'hello jay'"
      ]
     },
     "execution_count": 62,
     "metadata": {},
     "output_type": "execute_result"
    }
   ],
   "source": [
    "x.lower()"
   ]
  },
  {
   "cell_type": "code",
   "execution_count": 63,
   "id": "8cbe2c3a",
   "metadata": {},
   "outputs": [
    {
     "data": {
      "text/plain": [
       "['Hello', 'Jay']"
      ]
     },
     "execution_count": 63,
     "metadata": {},
     "output_type": "execute_result"
    }
   ],
   "source": [
    "x.split()"
   ]
  },
  {
   "cell_type": "code",
   "execution_count": 64,
   "id": "6597c59d",
   "metadata": {},
   "outputs": [],
   "source": [
    "y = \"this is a string\""
   ]
  },
  {
   "cell_type": "code",
   "execution_count": 65,
   "id": "e95abc75",
   "metadata": {},
   "outputs": [
    {
     "data": {
      "text/plain": [
       "['this', 'is', 'a', 'string']"
      ]
     },
     "execution_count": 65,
     "metadata": {},
     "output_type": "execute_result"
    }
   ],
   "source": [
    "y.split()"
   ]
  },
  {
   "cell_type": "code",
   "execution_count": 66,
   "id": "5910f0c3",
   "metadata": {},
   "outputs": [
    {
     "data": {
      "text/plain": [
       "['th', 's ', 's a str', 'ng']"
      ]
     },
     "execution_count": 66,
     "metadata": {},
     "output_type": "execute_result"
    }
   ],
   "source": [
    "y.split('i')"
   ]
  },
  {
   "cell_type": "markdown",
   "id": "95537e2e",
   "metadata": {},
   "source": [
    "### Interview Questions on Strings FAQ\n",
    "\n",
    "1. Are strings mutable ?\n",
    "\n",
    "2. How do i create comments in code ?"
   ]
  },
  {
   "cell_type": "markdown",
   "id": "e068f838",
   "metadata": {},
   "source": [
    "<b>String Formatting</b>"
   ]
  },
  {
   "cell_type": "markdown",
   "id": "b7ba0302",
   "metadata": {},
   "source": [
    "oftenly there will be a need to us to \"inject\" a variable into your string for printing. For example\n",
    "\n",
    "    * myName = \"Clad\"\n",
    "    * print(\"Hello\" + myName)\n",
    "    \n",
    "There are multiple ways to format strings for printing variables in them\n",
    "\n",
    "This is knowm as String Interpolation\n",
    "\n",
    "Basically two methods for this\n",
    "\n",
    "    * .format() method\n",
    "    * f-string (formatted String literals)"
   ]
  },
  {
   "cell_type": "markdown",
   "id": "f4fd8c8e",
   "metadata": {},
   "source": [
    "<b>Formatting with .format method</b>"
   ]
  },
  {
   "cell_type": "markdown",
   "id": "ac0eaf98",
   "metadata": {},
   "source": [
    "A good way to format objects into your strings for print statements is with the string .format() method\n",
    "\n",
    "SYNTAX : 'String here {} then also {}' .format('something1',something2')"
   ]
  },
  {
   "cell_type": "code",
   "execution_count": 71,
   "id": "2e78d2c5",
   "metadata": {},
   "outputs": [
    {
     "name": "stdout",
     "output_type": "stream",
     "text": [
      "This is a string INSERTED\n"
     ]
    }
   ],
   "source": [
    "print(\"This is a string {}\".format(\"INSERTED\"))"
   ]
  },
  {
   "cell_type": "code",
   "execution_count": 79,
   "id": "35b30887",
   "metadata": {},
   "outputs": [
    {
     "name": "stdout",
     "output_type": "stream",
     "text": [
      "The Lion yawns in the den\n"
     ]
    }
   ],
   "source": [
    "print(\"The {} {} {}\".format('Lion','yawns','in the den'))"
   ]
  },
  {
   "cell_type": "code",
   "execution_count": 80,
   "id": "08d41d1a",
   "metadata": {},
   "outputs": [
    {
     "ename": "IndexError",
     "evalue": "Replacement index 3 out of range for positional args tuple",
     "output_type": "error",
     "traceback": [
      "\u001b[1;31m---------------------------------------------------------------------------\u001b[0m",
      "\u001b[1;31mIndexError\u001b[0m                                Traceback (most recent call last)",
      "\u001b[1;32m~\\AppData\\Local\\Temp\\ipykernel_9932\\3986352331.py\u001b[0m in \u001b[0;36m<module>\u001b[1;34m\u001b[0m\n\u001b[1;32m----> 1\u001b[1;33m \u001b[0mprint\u001b[0m\u001b[1;33m(\u001b[0m\u001b[1;34m\"The {1} {2} {3}\"\u001b[0m\u001b[1;33m.\u001b[0m\u001b[0mformat\u001b[0m\u001b[1;33m(\u001b[0m\u001b[1;34m'is the Lion'\u001b[0m\u001b[1;33m,\u001b[0m\u001b[1;34m'one who yawns'\u001b[0m\u001b[1;33m,\u001b[0m\u001b[1;34m'in the den'\u001b[0m\u001b[1;33m)\u001b[0m\u001b[1;33m)\u001b[0m\u001b[1;33m\u001b[0m\u001b[1;33m\u001b[0m\u001b[0m\n\u001b[0m",
      "\u001b[1;31mIndexError\u001b[0m: Replacement index 3 out of range for positional args tuple"
     ]
    }
   ],
   "source": [
    "print(\"The {1} {2} {3}\".format('is the Lion','one who yawns','in the den'))"
   ]
  },
  {
   "cell_type": "code",
   "execution_count": 76,
   "id": "df908e6f",
   "metadata": {},
   "outputs": [
    {
     "name": "stdout",
     "output_type": "stream",
     "text": [
      "The one who yawns in the den is the Lion\n"
     ]
    }
   ],
   "source": [
    "print(\"The {1} {2} {0}\".format('is the Lion','one who yawns','in the den'))"
   ]
  },
  {
   "cell_type": "code",
   "execution_count": 78,
   "id": "eba97a8d",
   "metadata": {},
   "outputs": [
    {
     "name": "stdout",
     "output_type": "stream",
     "text": [
      "The quick brown Fox\n"
     ]
    }
   ],
   "source": [
    "print(\"The {q} {b} {f}\".format(f=\"Fox\",b=\"brown\",q=\"quick\"))"
   ]
  },
  {
   "cell_type": "markdown",
   "id": "1dbb30ff",
   "metadata": {},
   "source": [
    "<b>Float Formatting follows \"{value:width.precision f}\""
   ]
  },
  {
   "cell_type": "code",
   "execution_count": 81,
   "id": "eec534ea",
   "metadata": {},
   "outputs": [],
   "source": [
    "result = 100/777"
   ]
  },
  {
   "cell_type": "code",
   "execution_count": 82,
   "id": "88e996ad",
   "metadata": {},
   "outputs": [
    {
     "data": {
      "text/plain": [
       "0.1287001287001287"
      ]
     },
     "execution_count": 82,
     "metadata": {},
     "output_type": "execute_result"
    }
   ],
   "source": [
    "result"
   ]
  },
  {
   "cell_type": "code",
   "execution_count": 83,
   "id": "da9b9c9d",
   "metadata": {},
   "outputs": [
    {
     "name": "stdout",
     "output_type": "stream",
     "text": [
      "The Result was 0.1287001287001287\n"
     ]
    }
   ],
   "source": [
    "print(\"The Result was {}\".format(result))"
   ]
  },
  {
   "cell_type": "code",
   "execution_count": 84,
   "id": "f2060a40",
   "metadata": {},
   "outputs": [
    {
     "name": "stdout",
     "output_type": "stream",
     "text": [
      "The Result was 0.1287\n"
     ]
    }
   ],
   "source": [
    "print(\"The Result was {r:1.5}\".format(r=result))"
   ]
  },
  {
   "cell_type": "markdown",
   "id": "d0a9c042",
   "metadata": {},
   "source": [
    "<b>F-string literals</b>"
   ]
  },
  {
   "cell_type": "code",
   "execution_count": 85,
   "id": "43ecab88",
   "metadata": {},
   "outputs": [],
   "source": [
    "name = \"Ashwin\""
   ]
  },
  {
   "cell_type": "code",
   "execution_count": 86,
   "id": "184cc4d5",
   "metadata": {},
   "outputs": [
    {
     "name": "stdout",
     "output_type": "stream",
     "text": [
      "Hello, his name is Ashwin\n"
     ]
    }
   ],
   "source": [
    "print(f\"Hello, his name is {name}\")"
   ]
  },
  {
   "cell_type": "code",
   "execution_count": 88,
   "id": "4a251a90",
   "metadata": {},
   "outputs": [
    {
     "name": "stdout",
     "output_type": "stream",
     "text": [
      "Sam is 21 years old\n"
     ]
    }
   ],
   "source": [
    "name = \"Sam\"\n",
    "age = 21\n",
    "print(f\"{name} is {age} years old\")"
   ]
  },
  {
   "cell_type": "code",
   "execution_count": null,
   "id": "a8d70edd",
   "metadata": {},
   "outputs": [],
   "source": []
  }
 ],
 "metadata": {
  "kernelspec": {
   "display_name": "Python 3 (ipykernel)",
   "language": "python",
   "name": "python3"
  },
  "language_info": {
   "codemirror_mode": {
    "name": "ipython",
    "version": 3
   },
   "file_extension": ".py",
   "mimetype": "text/x-python",
   "name": "python",
   "nbconvert_exporter": "python",
   "pygments_lexer": "ipython3",
   "version": "3.9.13"
  }
 },
 "nbformat": 4,
 "nbformat_minor": 5
}
